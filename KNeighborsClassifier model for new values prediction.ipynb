{
 "cells": [
  {
   "cell_type": "code",
   "execution_count": 54,
   "id": "56bccae0",
   "metadata": {},
   "outputs": [],
   "source": [
    "import pandas as pd\n",
    "import numpy as np\n",
    "from sklearn.model_selection import train_test_split\n",
    "from sklearn.neighbors import KNeighborsClassifier\n",
    "from sklearn import metrics"
   ]
  },
  {
   "cell_type": "code",
   "execution_count": 78,
   "id": "d2a7c1f6",
   "metadata": {},
   "outputs": [],
   "source": [
    "df = pd.read_csv(\"Regression Data - Sheet1.csv\")"
   ]
  },
  {
   "cell_type": "code",
   "execution_count": 79,
   "id": "2e6360aa",
   "metadata": {},
   "outputs": [
    {
     "name": "stdout",
     "output_type": "stream",
     "text": [
      "-0.4517504492074855\n"
     ]
    }
   ],
   "source": [
    "correlation = df[\"Rank\"].corr(df[\"Units\"])\n",
    "print(correlation)\n",
    "\n",
    "# we have negative relationship between data > will use KNN model, not linear regression"
   ]
  },
  {
   "cell_type": "code",
   "execution_count": 62,
   "id": "5eb98526",
   "metadata": {},
   "outputs": [],
   "source": [
    "x = df[\"Rank\"].values\n",
    "y = df[\"Units\"].values"
   ]
  },
  {
   "cell_type": "code",
   "execution_count": 63,
   "id": "f62cb29f",
   "metadata": {},
   "outputs": [],
   "source": [
    "model = KNeighborsClassifier(n_neighbors=3)"
   ]
  },
  {
   "cell_type": "code",
   "execution_count": 73,
   "id": "f6f8b260",
   "metadata": {},
   "outputs": [],
   "source": [
    "X_train, X_test, y_train, y_test = train_test_split(x, y, test_size=0.2)"
   ]
  },
  {
   "cell_type": "code",
   "execution_count": 74,
   "id": "4f0dfbe6",
   "metadata": {},
   "outputs": [
    {
     "data": {
      "text/plain": [
       "KNeighborsClassifier(n_neighbors=3)"
      ]
     },
     "execution_count": 74,
     "metadata": {},
     "output_type": "execute_result"
    }
   ],
   "source": [
    "model.fit(X_train.reshape(-1, 1), y_train)"
   ]
  },
  {
   "cell_type": "code",
   "execution_count": 75,
   "id": "d83663d6",
   "metadata": {},
   "outputs": [
    {
     "name": "stdout",
     "output_type": "stream",
     "text": [
      "Accuracy: 0.45364238410596025\n"
     ]
    }
   ],
   "source": [
    "#Predict for test dataset\n",
    "y_pred = model.predict(X_test.reshape(-1, 1))\n",
    "\n",
    "# Model Accuracy\n",
    "print(\"Accuracy:\", metrics.accuracy_score(y_test, y_pred))"
   ]
  },
  {
   "cell_type": "code",
   "execution_count": 76,
   "id": "8c3b40ab",
   "metadata": {},
   "outputs": [],
   "source": [
    "#predict values for a new dataset\n",
    "df1 = df.sample(n=100)\n",
    "\n",
    "x1 = df1[\"Rank\"].values # values from new df\n",
    "y_pred_2 = model.predict(x1.reshape(-1, 1)) # y_pred_2 = predicted values from model\n",
    "\n",
    "df1[\"Test_units\"] = y_pred_2 #assign new values to a column\n"
   ]
  },
  {
   "cell_type": "code",
   "execution_count": 77,
   "id": "fe7410fe",
   "metadata": {},
   "outputs": [
    {
     "data": {
      "text/html": [
       "<div>\n",
       "<style scoped>\n",
       "    .dataframe tbody tr th:only-of-type {\n",
       "        vertical-align: middle;\n",
       "    }\n",
       "\n",
       "    .dataframe tbody tr th {\n",
       "        vertical-align: top;\n",
       "    }\n",
       "\n",
       "    .dataframe thead th {\n",
       "        text-align: right;\n",
       "    }\n",
       "</style>\n",
       "<table border=\"1\" class=\"dataframe\">\n",
       "  <thead>\n",
       "    <tr style=\"text-align: right;\">\n",
       "      <th></th>\n",
       "      <th>Rank</th>\n",
       "      <th>Units</th>\n",
       "      <th>Test_units</th>\n",
       "    </tr>\n",
       "  </thead>\n",
       "  <tbody>\n",
       "    <tr>\n",
       "      <th>1308</th>\n",
       "      <td>11913</td>\n",
       "      <td>19</td>\n",
       "      <td>18</td>\n",
       "    </tr>\n",
       "    <tr>\n",
       "      <th>139</th>\n",
       "      <td>146</td>\n",
       "      <td>420</td>\n",
       "      <td>422</td>\n",
       "    </tr>\n",
       "    <tr>\n",
       "      <th>745</th>\n",
       "      <td>1195</td>\n",
       "      <td>108</td>\n",
       "      <td>107</td>\n",
       "    </tr>\n",
       "    <tr>\n",
       "      <th>76</th>\n",
       "      <td>77</td>\n",
       "      <td>584</td>\n",
       "      <td>581</td>\n",
       "    </tr>\n",
       "    <tr>\n",
       "      <th>647</th>\n",
       "      <td>848</td>\n",
       "      <td>136</td>\n",
       "      <td>133</td>\n",
       "    </tr>\n",
       "    <tr>\n",
       "      <th>...</th>\n",
       "      <td>...</td>\n",
       "      <td>...</td>\n",
       "      <td>...</td>\n",
       "    </tr>\n",
       "    <tr>\n",
       "      <th>649</th>\n",
       "      <td>860</td>\n",
       "      <td>136</td>\n",
       "      <td>135</td>\n",
       "    </tr>\n",
       "    <tr>\n",
       "      <th>1044</th>\n",
       "      <td>3824</td>\n",
       "      <td>45</td>\n",
       "      <td>45</td>\n",
       "    </tr>\n",
       "    <tr>\n",
       "      <th>1350</th>\n",
       "      <td>14262</td>\n",
       "      <td>16</td>\n",
       "      <td>16</td>\n",
       "    </tr>\n",
       "    <tr>\n",
       "      <th>181</th>\n",
       "      <td>191</td>\n",
       "      <td>359</td>\n",
       "      <td>358</td>\n",
       "    </tr>\n",
       "    <tr>\n",
       "      <th>1082</th>\n",
       "      <td>4486</td>\n",
       "      <td>40</td>\n",
       "      <td>40</td>\n",
       "    </tr>\n",
       "  </tbody>\n",
       "</table>\n",
       "<p>100 rows × 3 columns</p>\n",
       "</div>"
      ],
      "text/plain": [
       "       Rank  Units  Test_units\n",
       "1308  11913     19          18\n",
       "139     146    420         422\n",
       "745    1195    108         107\n",
       "76       77    584         581\n",
       "647     848    136         133\n",
       "...     ...    ...         ...\n",
       "649     860    136         135\n",
       "1044   3824     45          45\n",
       "1350  14262     16          16\n",
       "181     191    359         358\n",
       "1082   4486     40          40\n",
       "\n",
       "[100 rows x 3 columns]"
      ]
     },
     "execution_count": 77,
     "metadata": {},
     "output_type": "execute_result"
    }
   ],
   "source": [
    "df1"
   ]
  }
 ],
 "metadata": {
  "kernelspec": {
   "display_name": "Python 3",
   "language": "python",
   "name": "python3"
  },
  "language_info": {
   "codemirror_mode": {
    "name": "ipython",
    "version": 3
   },
   "file_extension": ".py",
   "mimetype": "text/x-python",
   "name": "python",
   "nbconvert_exporter": "python",
   "pygments_lexer": "ipython3",
   "version": "3.8.8"
  }
 },
 "nbformat": 4,
 "nbformat_minor": 5
}
